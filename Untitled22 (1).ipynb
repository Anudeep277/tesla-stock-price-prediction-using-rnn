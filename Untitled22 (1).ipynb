{
 "cells": [
  {
   "cell_type": "code",
   "execution_count": 31,
   "metadata": {},
   "outputs": [],
   "source": [
    "import numpy as np\n",
    "import pandas as pd\n",
    "import matplotlib.pyplot as plt\n",
    "from sklearn.preprocessing import MinMaxScaler\n",
    "from keras.models import Sequential, load_model\n",
    "from keras.layers import LSTM, Dense, Dropout\n",
    "import os"
   ]
  },
  {
   "cell_type": "code",
   "execution_count": 42,
   "metadata": {},
   "outputs": [],
   "source": [
    "\n",
    "df = pd.read_csv(r'C:\\PerfLogs\\tesla.csv')\n"
   ]
  },
  {
   "cell_type": "code",
   "execution_count": 43,
   "metadata": {
    "scrolled": true
   },
   "outputs": [
    {
     "data": {
      "text/html": [
       "<div>\n",
       "<style scoped>\n",
       "    .dataframe tbody tr th:only-of-type {\n",
       "        vertical-align: middle;\n",
       "    }\n",
       "\n",
       "    .dataframe tbody tr th {\n",
       "        vertical-align: top;\n",
       "    }\n",
       "\n",
       "    .dataframe thead th {\n",
       "        text-align: right;\n",
       "    }\n",
       "</style>\n",
       "<table border=\"1\" class=\"dataframe\">\n",
       "  <thead>\n",
       "    <tr style=\"text-align: right;\">\n",
       "      <th></th>\n",
       "      <th>Date</th>\n",
       "      <th>Open</th>\n",
       "      <th>High</th>\n",
       "      <th>Low</th>\n",
       "      <th>Close</th>\n",
       "      <th>Adj Close</th>\n",
       "      <th>Volume</th>\n",
       "    </tr>\n",
       "  </thead>\n",
       "  <tbody>\n",
       "    <tr>\n",
       "      <th>0</th>\n",
       "      <td>2010-06-29</td>\n",
       "      <td>19.000000</td>\n",
       "      <td>25.00</td>\n",
       "      <td>17.540001</td>\n",
       "      <td>23.889999</td>\n",
       "      <td>23.889999</td>\n",
       "      <td>18766300</td>\n",
       "    </tr>\n",
       "    <tr>\n",
       "      <th>1</th>\n",
       "      <td>2010-06-30</td>\n",
       "      <td>25.790001</td>\n",
       "      <td>30.42</td>\n",
       "      <td>23.299999</td>\n",
       "      <td>23.830000</td>\n",
       "      <td>23.830000</td>\n",
       "      <td>17187100</td>\n",
       "    </tr>\n",
       "    <tr>\n",
       "      <th>2</th>\n",
       "      <td>2010-07-01</td>\n",
       "      <td>25.000000</td>\n",
       "      <td>25.92</td>\n",
       "      <td>20.270000</td>\n",
       "      <td>21.959999</td>\n",
       "      <td>21.959999</td>\n",
       "      <td>8218800</td>\n",
       "    </tr>\n",
       "    <tr>\n",
       "      <th>3</th>\n",
       "      <td>2010-07-02</td>\n",
       "      <td>23.000000</td>\n",
       "      <td>23.10</td>\n",
       "      <td>18.709999</td>\n",
       "      <td>19.200001</td>\n",
       "      <td>19.200001</td>\n",
       "      <td>5139800</td>\n",
       "    </tr>\n",
       "    <tr>\n",
       "      <th>4</th>\n",
       "      <td>2010-07-06</td>\n",
       "      <td>20.000000</td>\n",
       "      <td>20.00</td>\n",
       "      <td>15.830000</td>\n",
       "      <td>16.110001</td>\n",
       "      <td>16.110001</td>\n",
       "      <td>6866900</td>\n",
       "    </tr>\n",
       "  </tbody>\n",
       "</table>\n",
       "</div>"
      ],
      "text/plain": [
       "         Date       Open   High        Low      Close  Adj Close    Volume\n",
       "0  2010-06-29  19.000000  25.00  17.540001  23.889999  23.889999  18766300\n",
       "1  2010-06-30  25.790001  30.42  23.299999  23.830000  23.830000  17187100\n",
       "2  2010-07-01  25.000000  25.92  20.270000  21.959999  21.959999   8218800\n",
       "3  2010-07-02  23.000000  23.10  18.709999  19.200001  19.200001   5139800\n",
       "4  2010-07-06  20.000000  20.00  15.830000  16.110001  16.110001   6866900"
      ]
     },
     "execution_count": 43,
     "metadata": {},
     "output_type": "execute_result"
    }
   ],
   "source": [
    "df.head()"
   ]
  },
  {
   "cell_type": "code",
   "execution_count": 44,
   "metadata": {},
   "outputs": [
    {
     "data": {
      "text/html": [
       "<div>\n",
       "<style scoped>\n",
       "    .dataframe tbody tr th:only-of-type {\n",
       "        vertical-align: middle;\n",
       "    }\n",
       "\n",
       "    .dataframe tbody tr th {\n",
       "        vertical-align: top;\n",
       "    }\n",
       "\n",
       "    .dataframe thead th {\n",
       "        text-align: right;\n",
       "    }\n",
       "</style>\n",
       "<table border=\"1\" class=\"dataframe\">\n",
       "  <thead>\n",
       "    <tr style=\"text-align: right;\">\n",
       "      <th></th>\n",
       "      <th>Date</th>\n",
       "      <th>Open</th>\n",
       "      <th>High</th>\n",
       "      <th>Low</th>\n",
       "      <th>Close</th>\n",
       "      <th>Adj Close</th>\n",
       "      <th>Volume</th>\n",
       "    </tr>\n",
       "  </thead>\n",
       "  <tbody>\n",
       "    <tr>\n",
       "      <th>0</th>\n",
       "      <td>2010-06-29</td>\n",
       "      <td>19.000000</td>\n",
       "      <td>25.00</td>\n",
       "      <td>17.540001</td>\n",
       "      <td>23.889999</td>\n",
       "      <td>23.889999</td>\n",
       "      <td>18766300</td>\n",
       "    </tr>\n",
       "    <tr>\n",
       "      <th>1</th>\n",
       "      <td>2010-06-30</td>\n",
       "      <td>25.790001</td>\n",
       "      <td>30.42</td>\n",
       "      <td>23.299999</td>\n",
       "      <td>23.830000</td>\n",
       "      <td>23.830000</td>\n",
       "      <td>17187100</td>\n",
       "    </tr>\n",
       "    <tr>\n",
       "      <th>2</th>\n",
       "      <td>2010-07-01</td>\n",
       "      <td>25.000000</td>\n",
       "      <td>25.92</td>\n",
       "      <td>20.270000</td>\n",
       "      <td>21.959999</td>\n",
       "      <td>21.959999</td>\n",
       "      <td>8218800</td>\n",
       "    </tr>\n",
       "    <tr>\n",
       "      <th>3</th>\n",
       "      <td>2010-07-02</td>\n",
       "      <td>23.000000</td>\n",
       "      <td>23.10</td>\n",
       "      <td>18.709999</td>\n",
       "      <td>19.200001</td>\n",
       "      <td>19.200001</td>\n",
       "      <td>5139800</td>\n",
       "    </tr>\n",
       "    <tr>\n",
       "      <th>4</th>\n",
       "      <td>2010-07-06</td>\n",
       "      <td>20.000000</td>\n",
       "      <td>20.00</td>\n",
       "      <td>15.830000</td>\n",
       "      <td>16.110001</td>\n",
       "      <td>16.110001</td>\n",
       "      <td>6866900</td>\n",
       "    </tr>\n",
       "  </tbody>\n",
       "</table>\n",
       "</div>"
      ],
      "text/plain": [
       "         Date       Open   High        Low      Close  Adj Close    Volume\n",
       "0  2010-06-29  19.000000  25.00  17.540001  23.889999  23.889999  18766300\n",
       "1  2010-06-30  25.790001  30.42  23.299999  23.830000  23.830000  17187100\n",
       "2  2010-07-01  25.000000  25.92  20.270000  21.959999  21.959999   8218800\n",
       "3  2010-07-02  23.000000  23.10  18.709999  19.200001  19.200001   5139800\n",
       "4  2010-07-06  20.000000  20.00  15.830000  16.110001  16.110001   6866900"
      ]
     },
     "execution_count": 44,
     "metadata": {},
     "output_type": "execute_result"
    }
   ],
   "source": [
    "df.head()"
   ]
  },
  {
   "cell_type": "code",
   "execution_count": 46,
   "metadata": {},
   "outputs": [
    {
     "name": "stdout",
     "output_type": "stream",
     "text": [
      "(2416, 1)\n"
     ]
    },
    {
     "data": {
      "text/plain": [
       "array([[19.      ],\n",
       "       [25.790001],\n",
       "       [25.      ],\n",
       "       [23.      ],\n",
       "       [20.      ]])"
      ]
     },
     "execution_count": 46,
     "metadata": {},
     "output_type": "execute_result"
    }
   ],
   "source": [
    "df = df['Open'].values\n",
    "df = df.reshape(-1, 1)\n",
    "print(df.shape)\n",
    "df[:5]"
   ]
  },
  {
   "cell_type": "code",
   "execution_count": 48,
   "metadata": {},
   "outputs": [
    {
     "name": "stdout",
     "output_type": "stream",
     "text": [
      "(1932, 1)\n",
      "(484, 1)\n"
     ]
    }
   ],
   "source": [
    "dataset_train = np.array(df[:int(df.shape[0]*0.8)])\n",
    "dataset_test = np.array(df[int(df.shape[0]*0.8):])\n",
    "print(dataset_train.shape)\n",
    "print(dataset_test.shape)"
   ]
  },
  {
   "cell_type": "code",
   "execution_count": 49,
   "metadata": {},
   "outputs": [
    {
     "data": {
      "text/plain": [
       "array([[0.00771826],\n",
       "       [0.02604237],\n",
       "       [0.02391041],\n",
       "       [0.01851302],\n",
       "       [0.01041695]])"
      ]
     },
     "execution_count": 49,
     "metadata": {},
     "output_type": "execute_result"
    }
   ],
   "source": [
    "scaler = MinMaxScaler(feature_range=(0,1))\n",
    "dataset_train = scaler.fit_transform(dataset_train)\n",
    "dataset_train[:5]"
   ]
  },
  {
   "cell_type": "code",
   "execution_count": 50,
   "metadata": {},
   "outputs": [
    {
     "data": {
      "text/plain": [
       "array([[0.83886118],\n",
       "       [0.85346111],\n",
       "       [0.85713129],\n",
       "       [0.83470517],\n",
       "       [0.85472941]])"
      ]
     },
     "execution_count": 50,
     "metadata": {},
     "output_type": "execute_result"
    }
   ],
   "source": [
    "dataset_test = scaler.transform(dataset_test)\n",
    "dataset_test[:5]"
   ]
  },
  {
   "cell_type": "code",
   "execution_count": 59,
   "metadata": {},
   "outputs": [],
   "source": [
    "def create_dataset(df):\n",
    "    x = []\n",
    "    y = []\n",
    "    for i in range(60, df.shape[0]):\n",
    "        x.append(df[i-60:i, 0])\n",
    "        y.append(df[i, 0])\n",
    "    x = np.array(x)\n",
    "    y = np.array(y)\n",
    "    return x,y"
   ]
  },
  {
   "cell_type": "code",
   "execution_count": 60,
   "metadata": {},
   "outputs": [
    {
     "data": {
      "text/plain": [
       "array([[0.00771826, 0.02604237, 0.02391041, 0.01851302, 0.01041695,\n",
       "        0.00070166, 0.        , 0.00388612, 0.00488464, 0.00337336,\n",
       "        0.00485765, 0.01025503, 0.01230604, 0.01411416, 0.01540953,\n",
       "        0.01219809, 0.0117663 , 0.0136284 , 0.01446499, 0.01287276,\n",
       "        0.01190123, 0.01249494, 0.01095669, 0.0117663 , 0.01311564,\n",
       "        0.0156794 , 0.01457294, 0.01068682, 0.01014708, 0.00947241,\n",
       "        0.00688167, 0.00447983, 0.00550533, 0.00623398, 0.00761031,\n",
       "        0.00931049, 0.00647686, 0.00677372, 0.00796114, 0.00839293,\n",
       "        0.00815005, 0.01012009, 0.00974228, 0.00960735, 0.0094994 ,\n",
       "        0.00939145, 0.01141547, 0.01276481, 0.01206315, 0.01219809,\n",
       "        0.01311564, 0.01244097, 0.01281878, 0.01187425, 0.01306167,\n",
       "        0.01621914, 0.01316962, 0.01222507, 0.01281878, 0.01276481]])"
      ]
     },
     "execution_count": 60,
     "metadata": {},
     "output_type": "execute_result"
    }
   ],
   "source": [
    "x_train, y_train = create_dataset(dataset_train)\n",
    "x_train[:1]"
   ]
  },
  {
   "cell_type": "code",
   "execution_count": 61,
   "metadata": {},
   "outputs": [
    {
     "data": {
      "text/plain": [
       "array([[0.83886118, 0.85346111, 0.85713129, 0.83470517, 0.85472941,\n",
       "        0.83108893, 0.84325997, 0.84325997, 0.86525437, 0.84533802,\n",
       "        0.82793143, 0.81057887, 0.80617999, 0.79371205, 0.80353532,\n",
       "        0.79641074, 0.78585884, 0.77684523, 0.67046279, 0.64863038,\n",
       "        0.64800974, 0.68460398, 0.63861826, 0.7372824 , 0.76874915,\n",
       "        0.76704896, 0.76327081, 0.76804747, 0.77231144, 0.77576577,\n",
       "        0.76335177, 0.73601402, 0.7419781 , 0.7419781 , 0.75301582,\n",
       "        0.74254489, 0.7255701 , 0.72152206, 0.70870328, 0.7265686 ,\n",
       "        0.74880579, 0.74853598, 0.76219135, 0.70881125, 0.72017271,\n",
       "        0.75930373, 0.76820938, 0.76715694, 0.78629065, 0.78683042,\n",
       "        0.77501014, 0.72559711, 0.72241259, 0.7279989 , 0.72462554,\n",
       "        0.71566586, 0.73301851, 0.7060316 , 0.70775872, 0.70568076]])"
      ]
     },
     "execution_count": 61,
     "metadata": {},
     "output_type": "execute_result"
    }
   ],
   "source": [
    "\n",
    "x_test, y_test = create_dataset(dataset_test)\n",
    "x_test[:1]"
   ]
  },
  {
   "cell_type": "code",
   "execution_count": 62,
   "metadata": {},
   "outputs": [],
   "source": [
    "x_train = np.reshape(x_train, (x_train.shape[0], x_train.shape[1], 1))\n",
    "x_test = np.reshape(x_test, (x_test.shape[0], x_test.shape[1], 1))"
   ]
  },
  {
   "cell_type": "code",
   "execution_count": 63,
   "metadata": {},
   "outputs": [],
   "source": [
    "model = Sequential()\n",
    "model.add(LSTM(units=99, return_sequences=True, input_shape=(x_train.shape[1], 1)))\n",
    "model.add(Dropout(0.2))\n",
    "model.add(LSTM(units=99, return_sequences=True))\n",
    "model.add(Dropout(0.2))\n",
    "model.add(LSTM(units=99, return_sequences=True))\n",
    "model.add(Dropout(0.2))\n",
    "model.add(LSTM(units=99))\n",
    "model.add(Dropout(0.2))\n",
    "model.add(Dense(units=1))"
   ]
  },
  {
   "cell_type": "code",
   "execution_count": 64,
   "metadata": {},
   "outputs": [],
   "source": [
    "model.compile(loss='mean_squared_error', optimizer='adam')"
   ]
  },
  {
   "cell_type": "code",
   "execution_count": 65,
   "metadata": {},
   "outputs": [
    {
     "name": "stdout",
     "output_type": "stream",
     "text": [
      "Epoch 1/50\n",
      "59/59 [==============================] - 8s 142ms/step - loss: 0.0169\n",
      "Epoch 2/50\n",
      "59/59 [==============================] - 11s 192ms/step - loss: 0.0036\n",
      "Epoch 3/50\n",
      "59/59 [==============================] - 11s 195ms/step - loss: 0.0033\n",
      "Epoch 4/50\n",
      "59/59 [==============================] - 10s 170ms/step - loss: 0.0029\n",
      "Epoch 5/50\n",
      "59/59 [==============================] - 7s 126ms/step - loss: 0.0032\n",
      "Epoch 6/50\n",
      "59/59 [==============================] - 8s 129ms/step - loss: 0.0034\n",
      "Epoch 7/50\n",
      "59/59 [==============================] - 8s 128ms/step - loss: 0.0027\n",
      "Epoch 8/50\n",
      "59/59 [==============================] - 8s 135ms/step - loss: 0.0025\n",
      "Epoch 9/50\n",
      "59/59 [==============================] - 7s 125ms/step - loss: 0.0024\n",
      "Epoch 10/50\n",
      "59/59 [==============================] - 8s 128ms/step - loss: 0.0025\n",
      "Epoch 11/50\n",
      "59/59 [==============================] - 7s 123ms/step - loss: 0.0028\n",
      "Epoch 12/50\n",
      "59/59 [==============================] - 7s 126ms/step - loss: 0.0023\n",
      "Epoch 13/50\n",
      "59/59 [==============================] - 7s 120ms/step - loss: 0.0022\n",
      "Epoch 14/50\n",
      "59/59 [==============================] - 7s 118ms/step - loss: 0.0018\n",
      "Epoch 15/50\n",
      "59/59 [==============================] - 7s 122ms/step - loss: 0.0018\n",
      "Epoch 16/50\n",
      "59/59 [==============================] - 7s 125ms/step - loss: 0.0019\n",
      "Epoch 17/50\n",
      "59/59 [==============================] - 7s 118ms/step - loss: 0.0019\n",
      "Epoch 18/50\n",
      "59/59 [==============================] - 7s 117ms/step - loss: 0.0016\n",
      "Epoch 19/50\n",
      "59/59 [==============================] - 7s 117ms/step - loss: 0.0017\n",
      "Epoch 20/50\n",
      "59/59 [==============================] - 7s 119ms/step - loss: 0.0016\n",
      "Epoch 21/50\n",
      "59/59 [==============================] - 7s 118ms/step - loss: 0.0017\n",
      "Epoch 22/50\n",
      "59/59 [==============================] - 7s 118ms/step - loss: 0.0016\n",
      "Epoch 23/50\n",
      "59/59 [==============================] - 7s 118ms/step - loss: 0.0018\n",
      "Epoch 24/50\n",
      "59/59 [==============================] - 7s 118ms/step - loss: 0.0016\n",
      "Epoch 25/50\n",
      "59/59 [==============================] - 7s 119ms/step - loss: 0.0015\n",
      "Epoch 26/50\n",
      "59/59 [==============================] - 7s 118ms/step - loss: 0.0014\n",
      "Epoch 27/50\n",
      "59/59 [==============================] - 7s 123ms/step - loss: 0.0015\n",
      "Epoch 28/50\n",
      "59/59 [==============================] - 7s 119ms/step - loss: 0.0014\n",
      "Epoch 29/50\n",
      "59/59 [==============================] - 8s 134ms/step - loss: 0.0014\n",
      "Epoch 30/50\n",
      "59/59 [==============================] - 7s 122ms/step - loss: 0.0014\n",
      "Epoch 31/50\n",
      "59/59 [==============================] - 7s 115ms/step - loss: 0.0013\n",
      "Epoch 32/50\n",
      "59/59 [==============================] - 8s 129ms/step - loss: 0.0015\n",
      "Epoch 33/50\n",
      "59/59 [==============================] - 10s 161ms/step - loss: 0.0014\n",
      "Epoch 34/50\n",
      "59/59 [==============================] - 14s 233ms/step - loss: 0.0014\n",
      "Epoch 35/50\n",
      "59/59 [==============================] - 14s 235ms/step - loss: 0.0013\n",
      "Epoch 36/50\n",
      "59/59 [==============================] - 8s 140ms/step - loss: 0.0012\n",
      "Epoch 37/50\n",
      "59/59 [==============================] - 8s 140ms/step - loss: 0.0012\n",
      "Epoch 38/50\n",
      "59/59 [==============================] - 8s 139ms/step - loss: 0.0013\n",
      "Epoch 39/50\n",
      "59/59 [==============================] - 8s 139ms/step - loss: 0.0012\n",
      "Epoch 40/50\n",
      "59/59 [==============================] - 8s 139ms/step - loss: 0.0013\n",
      "Epoch 41/50\n",
      "59/59 [==============================] - 8s 138ms/step - loss: 0.0013\n",
      "Epoch 42/50\n",
      "59/59 [==============================] - 11s 191ms/step - loss: 0.0013\n",
      "Epoch 43/50\n",
      "59/59 [==============================] - 8s 142ms/step - loss: 0.0012\n",
      "Epoch 44/50\n",
      "59/59 [==============================] - 11s 189ms/step - loss: 0.0013\n",
      "Epoch 45/50\n",
      "59/59 [==============================] - 8s 137ms/step - loss: 0.0011\n",
      "Epoch 46/50\n",
      "59/59 [==============================] - 8s 137ms/step - loss: 0.0011\n",
      "Epoch 47/50\n",
      "59/59 [==============================] - 9s 157ms/step - loss: 0.0011\n",
      "Epoch 48/50\n",
      "59/59 [==============================] - 14s 234ms/step - loss: 0.0011\n",
      "Epoch 49/50\n",
      "59/59 [==============================] - 14s 229ms/step - loss: 0.0011\n",
      "Epoch 50/50\n",
      "59/59 [==============================] - 11s 189ms/step - loss: 0.00112s\n"
     ]
    }
   ],
   "source": [
    "\n",
    "if(not os.path.exists('stock_prediction.h5')):\n",
    "    model.fit(x_train, y_train, epochs=50, batch_size=32)\n",
    "    model.save('stock_prediction.h5')"
   ]
  },
  {
   "cell_type": "code",
   "execution_count": 66,
   "metadata": {},
   "outputs": [],
   "source": [
    "model = load_model('stock_prediction.h5')"
   ]
  },
  {
   "cell_type": "code",
   "execution_count": 72,
   "metadata": {},
   "outputs": [
    {
     "data": {
      "text/plain": [
       "<matplotlib.legend.Legend at 0x2029190b4c0>"
      ]
     },
     "execution_count": 72,
     "metadata": {},
     "output_type": "execute_result"
    },
    {
     "data": {
      "image/png": "[encoded data removed]",
      "text/plain": [
       "<Figure size 576x288 with 1 Axes>"
      ]
     },
     "metadata": {
      "needs_background": "light"
     },
     "output_type": "display_data"
    }
   ],
   "source": [
    "\n",
    "y_test_scaled = scaler.inverse_transform(y_test.reshape(-1, 1))\n",
    "\n",
    "fig, ax = plt.subplots(figsize=(8,4))\n",
    "ax.plot(y_test_scaled, color='red', label='real stock Price')\n",
    "plt.plot(predictions, color='blue', label='Predicted stock Price')\n",
    "plt.legend()"
   ]
  },
  {
   "cell_type": "code",
   "execution_count": null,
   "metadata": {},
   "outputs": [],
   "source": []
  },
  {
   "cell_type": "code",
   "execution_count": null,
   "metadata": {},
   "outputs": [],
   "source": []
  },
  {
   "cell_type": "code",
   "execution_count": null,
   "metadata": {},
   "outputs": [],
   "source": []
  },
  {
   "cell_type": "code",
   "execution_count": null,
   "metadata": {},
   "outputs": [],
   "source": []
  },
  {
   "cell_type": "code",
   "execution_count": null,
   "metadata": {},
   "outputs": [],
   "source": []
  },
  {
   "cell_type": "code",
   "execution_count": null,
   "metadata": {},
   "outputs": [],
   "source": []
  },
  {
   "cell_type": "code",
   "execution_count": null,
   "metadata": {},
   "outputs": [],
   "source": []
  },
  {
   "cell_type": "code",
   "execution_count": null,
   "metadata": {},
   "outputs": [],
   "source": []
  },
  {
   "cell_type": "code",
   "execution_count": null,
   "metadata": {},
   "outputs": [],
   "source": []
  },
  {
   "cell_type": "code",
   "execution_count": null,
   "metadata": {},
   "outputs": [],
   "source": []
  }
 ],
 "metadata": {
  "kernelspec": {
   "display_name": "Python 3",
   "language": "python",
   "name": "python3"
  },
  "language_info": {
   "codemirror_mode": {
    "name": "ipython",
    "version": 3
   },
   "file_extension": ".py",
   "mimetype": "text/x-python",
   "name": "python",
   "nbconvert_exporter": "python",
   "pygments_lexer": "ipython3",
   "version": "3.8.5"
  }
 },
 "nbformat": 4,
 "nbformat_minor": 4
}
