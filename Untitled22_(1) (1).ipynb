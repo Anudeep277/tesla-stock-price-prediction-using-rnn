{
  "nbformat": 4,
  "nbformat_minor": 0,
  "metadata": {
    "kernelspec": {
      "display_name": "Python 3",
      "language": "python",
      "name": "python3"
    },
    "language_info": {
      "codemirror_mode": {
        "name": "ipython",
        "version": 3
      },
      "file_extension": ".py",
      "mimetype": "text/x-python",
      "name": "python",
      "nbconvert_exporter": "python",
      "pygments_lexer": "ipython3",
      "version": "3.8.5"
    },
    "colab": {
      "name": "Untitled22 (1).ipynb",
      "provenance": []
    }
  },
  "cells": [
    {
      "cell_type": "code",
      "metadata": {
        "id": "MJrr7yG1ImP_",
        "colab_type": "code",
        "colab": {}
      },
      "source": [
        "import numpy as np\n",
        "import pandas as pd\n",
        "import matplotlib.pyplot as plt\n",
        "from sklearn.preprocessing import MinMaxScaler\n",
        "from keras.models import Sequential, load_model\n",
        "from keras.layers import LSTM, Dense, Dropout\n",
        "import os"
      ],
      "execution_count": 74,
      "outputs": []
    },
    {
      "cell_type": "code",
      "metadata": {
        "id": "B-FN6xZYImSF",
        "colab_type": "code",
        "colab": {}
      },
      "source": [
        "df = pd.read_csv('/content/tesla.csv')"
      ],
      "execution_count": 75,
      "outputs": []
    },
    {
      "cell_type": "code",
      "metadata": {
        "scrolled": true,
        "id": "Qgxwky6gImTh",
        "colab_type": "code",
        "colab": {
          "base_uri": "https://localhost:8080/",
          "height": 195
        },
        "outputId": "160600a4-b830-4e78-fc6a-b28b68b03745"
      },
      "source": [
        "df.head()"
      ],
      "execution_count": 76,
      "outputs": [
        {
          "output_type": "execute_result",
          "data": {
            "text/html": [
              "<div>\n",
              "<style scoped>\n",
              "    .dataframe tbody tr th:only-of-type {\n",
              "        vertical-align: middle;\n",
              "    }\n",
              "\n",
              "    .dataframe tbody tr th {\n",
              "        vertical-align: top;\n",
              "    }\n",
              "\n",
              "    .dataframe thead th {\n",
              "        text-align: right;\n",
              "    }\n",
              "</style>\n",
              "<table border=\"1\" class=\"dataframe\">\n",
              "  <thead>\n",
              "    <tr style=\"text-align: right;\">\n",
              "      <th></th>\n",
              "      <th>Date</th>\n",
              "      <th>Open</th>\n",
              "      <th>High</th>\n",
              "      <th>Low</th>\n",
              "      <th>Close</th>\n",
              "      <th>Adj Close</th>\n",
              "      <th>Volume</th>\n",
              "    </tr>\n",
              "  </thead>\n",
              "  <tbody>\n",
              "    <tr>\n",
              "      <th>0</th>\n",
              "      <td>2010-06-29</td>\n",
              "      <td>19.000000</td>\n",
              "      <td>25.00</td>\n",
              "      <td>17.540001</td>\n",
              "      <td>23.889999</td>\n",
              "      <td>23.889999</td>\n",
              "      <td>18766300</td>\n",
              "    </tr>\n",
              "    <tr>\n",
              "      <th>1</th>\n",
              "      <td>2010-06-30</td>\n",
              "      <td>25.790001</td>\n",
              "      <td>30.42</td>\n",
              "      <td>23.299999</td>\n",
              "      <td>23.830000</td>\n",
              "      <td>23.830000</td>\n",
              "      <td>17187100</td>\n",
              "    </tr>\n",
              "    <tr>\n",
              "      <th>2</th>\n",
              "      <td>2010-07-01</td>\n",
              "      <td>25.000000</td>\n",
              "      <td>25.92</td>\n",
              "      <td>20.270000</td>\n",
              "      <td>21.959999</td>\n",
              "      <td>21.959999</td>\n",
              "      <td>8218800</td>\n",
              "    </tr>\n",
              "    <tr>\n",
              "      <th>3</th>\n",
              "      <td>2010-07-02</td>\n",
              "      <td>23.000000</td>\n",
              "      <td>23.10</td>\n",
              "      <td>18.709999</td>\n",
              "      <td>19.200001</td>\n",
              "      <td>19.200001</td>\n",
              "      <td>5139800</td>\n",
              "    </tr>\n",
              "    <tr>\n",
              "      <th>4</th>\n",
              "      <td>2010-07-06</td>\n",
              "      <td>20.000000</td>\n",
              "      <td>20.00</td>\n",
              "      <td>15.830000</td>\n",
              "      <td>16.110001</td>\n",
              "      <td>16.110001</td>\n",
              "      <td>6866900</td>\n",
              "    </tr>\n",
              "  </tbody>\n",
              "</table>\n",
              "</div>"
            ],
            "text/plain": [
              "         Date       Open   High        Low      Close  Adj Close    Volume\n",
              "0  2010-06-29  19.000000  25.00  17.540001  23.889999  23.889999  18766300\n",
              "1  2010-06-30  25.790001  30.42  23.299999  23.830000  23.830000  17187100\n",
              "2  2010-07-01  25.000000  25.92  20.270000  21.959999  21.959999   8218800\n",
              "3  2010-07-02  23.000000  23.10  18.709999  19.200001  19.200001   5139800\n",
              "4  2010-07-06  20.000000  20.00  15.830000  16.110001  16.110001   6866900"
            ]
          },
          "metadata": {
            "tags": []
          },
          "execution_count": 76
        }
      ]
    },
    {
      "cell_type": "code",
      "metadata": {
        "id": "HfOzvAA0ImUd",
        "colab_type": "code",
        "colab": {
          "base_uri": "https://localhost:8080/",
          "height": 118
        },
        "outputId": "ff82661f-f749-4a9c-96fa-427b043f9b27"
      },
      "source": [
        "df = df['High'].values\n",
        "df = df.reshape(-1, 1)\n",
        "print(df.shape)\n",
        "df[:5]"
      ],
      "execution_count": 77,
      "outputs": [
        {
          "output_type": "stream",
          "text": [
            "(2416, 1)\n"
          ],
          "name": "stdout"
        },
        {
          "output_type": "execute_result",
          "data": {
            "text/plain": [
              "array([[25.  ],\n",
              "       [30.42],\n",
              "       [25.92],\n",
              "       [23.1 ],\n",
              "       [20.  ]])"
            ]
          },
          "metadata": {
            "tags": []
          },
          "execution_count": 77
        }
      ]
    },
    {
      "cell_type": "code",
      "metadata": {
        "id": "V02Ub5GRImWr",
        "colab_type": "code",
        "colab": {
          "base_uri": "https://localhost:8080/",
          "height": 50
        },
        "outputId": "fb1d05bd-0cac-4efa-9bef-fbbbca95d5ff"
      },
      "source": [
        "dataset_train = np.array(df[:int(df.shape[0]*0.8)])\n",
        "dataset_test = np.array(df[int(df.shape[0]*0.8):])\n",
        "print(dataset_train.shape)\n",
        "print(dataset_test.shape)"
      ],
      "execution_count": 78,
      "outputs": [
        {
          "output_type": "stream",
          "text": [
            "(1932, 1)\n",
            "(484, 1)\n"
          ],
          "name": "stdout"
        }
      ]
    },
    {
      "cell_type": "code",
      "metadata": {
        "id": "pJuf-TDxImXQ",
        "colab_type": "code",
        "colab": {
          "base_uri": "https://localhost:8080/",
          "height": 101
        },
        "outputId": "8131f486-ab49-42fb-8d41-b29562bf71b8"
      },
      "source": [
        "scaler = MinMaxScaler(feature_range=(0,1))\n",
        "dataset_train = scaler.fit_transform(dataset_train)\n",
        "dataset_train[:5]"
      ],
      "execution_count": 79,
      "outputs": [
        {
          "output_type": "execute_result",
          "data": {
            "text/plain": [
              "array([[0.02244089],\n",
              "       [0.0369725 ],\n",
              "       [0.02490751],\n",
              "       [0.01734678],\n",
              "       [0.00903534]])"
            ]
          },
          "metadata": {
            "tags": []
          },
          "execution_count": 79
        }
      ]
    },
    {
      "cell_type": "code",
      "metadata": {
        "id": "mVQ9LsaZImYm",
        "colab_type": "code",
        "colab": {
          "base_uri": "https://localhost:8080/",
          "height": 101
        },
        "outputId": "71c13d2c-42cc-4c64-e5ed-e392925f5a73"
      },
      "source": [
        "dataset_test = scaler.transform(dataset_test)\n",
        "dataset_test[:5]"
      ],
      "execution_count": 80,
      "outputs": [
        {
          "output_type": "execute_result",
          "data": {
            "text/plain": [
              "array([[0.85417452],\n",
              "       [0.86095773],\n",
              "       [0.85725778],\n",
              "       [0.8468819 ],\n",
              "       [0.84902676]])"
            ]
          },
          "metadata": {
            "tags": []
          },
          "execution_count": 80
        }
      ]
    },
    {
      "cell_type": "code",
      "metadata": {
        "id": "5lVYL6SSImZH",
        "colab_type": "code",
        "colab": {}
      },
      "source": [
        "def create_dataset(df):\n",
        "    x = []\n",
        "    y = []\n",
        "    for i in range(60, df.shape[0]):\n",
        "        x.append(df[i-60:i, 0])\n",
        "        y.append(df[i, 0])\n",
        "    x = np.array(x)\n",
        "    y = np.array(y)\n",
        "    return x,y"
      ],
      "execution_count": 81,
      "outputs": []
    },
    {
      "cell_type": "code",
      "metadata": {
        "id": "oNCcjZdvIman",
        "colab_type": "code",
        "colab": {
          "base_uri": "https://localhost:8080/",
          "height": 218
        },
        "outputId": "0a3a3d14-25a0-4297-8db6-7c55ce6bac95"
      },
      "source": [
        "x_train, y_train = create_dataset(dataset_train)\n",
        "x_train[:1]"
      ],
      "execution_count": 82,
      "outputs": [
        {
          "output_type": "execute_result",
          "data": {
            "text/plain": [
              "array([[0.02244089, 0.0369725 , 0.02490751, 0.01734678, 0.00903534,\n",
              "        0.        , 0.00238619, 0.00340501, 0.0038608 , 0.00538903,\n",
              "        0.00943751, 0.013057  , 0.01252078, 0.01506784, 0.01399539,\n",
              "        0.01144834, 0.01238673, 0.01321787, 0.013057  , 0.01219905,\n",
              "        0.01144834, 0.01139471, 0.01021503, 0.01163601, 0.01426351,\n",
              "        0.01488016, 0.01319106, 0.00946432, 0.00898172, 0.00809695,\n",
              "        0.0060325 , 0.00340501, 0.00487962, 0.00581801, 0.00742667,\n",
              "        0.00793609, 0.00702451, 0.00664916, 0.01008097, 0.00825782,\n",
              "        0.00898172, 0.00975924, 0.0086868 , 0.00954475, 0.00847231,\n",
              "        0.01088531, 0.01235992, 0.01252078, 0.01171645, 0.0115824 ,\n",
              "        0.0118505 , 0.01152877, 0.01144834, 0.01332511, 0.01439756,\n",
              "        0.01750764, 0.0125744 , 0.01265484, 0.01319106, 0.0115824 ]])"
            ]
          },
          "metadata": {
            "tags": []
          },
          "execution_count": 82
        }
      ]
    },
    {
      "cell_type": "code",
      "metadata": {
        "id": "ZXXwpgcOImbR",
        "colab_type": "code",
        "colab": {
          "base_uri": "https://localhost:8080/",
          "height": 218
        },
        "outputId": "3d8ccd32-9ea2-4546-e549-0ab9e29ea0a8"
      },
      "source": [
        "\n",
        "x_test, y_test = create_dataset(dataset_test)\n",
        "x_test[:1]"
      ],
      "execution_count": 83,
      "outputs": [
        {
          "output_type": "execute_result",
          "data": {
            "text/plain": [
              "array([[0.85417452, 0.86095773, 0.85725778, 0.8468819 , 0.84902676,\n",
              "        0.83613063, 0.88632099, 0.88632099, 0.86648081, 0.84782031,\n",
              "        0.83320823, 0.81537887, 0.80331388, 0.81990995, 0.81020435,\n",
              "        0.78990834, 0.78009547, 0.77119417, 0.67577351, 0.68188643,\n",
              "        0.65338623, 0.68829432, 0.72856455, 0.77652963, 0.78462655,\n",
              "        0.7852164 , 0.77878175, 0.78382225, 0.77033627, 0.77033627,\n",
              "        0.7588343 , 0.73875281, 0.7603893 , 0.76245381, 0.75969227,\n",
              "        0.73727816, 0.72513273, 0.71995822, 0.72164733, 0.74491933,\n",
              "        0.75634088, 0.76194439, 0.77811147, 0.72767982, 0.75132714,\n",
              "        0.77572525, 0.78052446, 0.77854046, 0.79457344, 0.78355412,\n",
              "        0.77299055, 0.72478418, 0.72974425, 0.73076308, 0.71859082,\n",
              "        0.7369296 , 0.72757255, 0.70588239, 0.70909967, 0.70515852]])"
            ]
          },
          "metadata": {
            "tags": []
          },
          "execution_count": 83
        }
      ]
    },
    {
      "cell_type": "code",
      "metadata": {
        "id": "aiBu2Z9qImbx",
        "colab_type": "code",
        "colab": {}
      },
      "source": [
        "x_train = np.reshape(x_train, (x_train.shape[0], x_train.shape[1], 1))\n",
        "x_test = np.reshape(x_test, (x_test.shape[0], x_test.shape[1], 1))"
      ],
      "execution_count": 84,
      "outputs": []
    },
    {
      "cell_type": "code",
      "metadata": {
        "id": "Tc5Viw0tImcP",
        "colab_type": "code",
        "colab": {}
      },
      "source": [
        "model = Sequential()\n",
        "model.add(LSTM(units=99, return_sequences=True, input_shape=(x_train.shape[1], 1)))\n",
        "model.add(Dropout(0.2))\n",
        "model.add(LSTM(units=99, return_sequences=True))\n",
        "model.add(Dropout(0.2))\n",
        "model.add(LSTM(units=99, return_sequences=True))\n",
        "model.add(Dropout(0.2))\n",
        "model.add(LSTM(units=99))\n",
        "model.add(Dropout(0.2))\n",
        "model.add(Dense(units=1))"
      ],
      "execution_count": 85,
      "outputs": []
    },
    {
      "cell_type": "code",
      "metadata": {
        "id": "DJQo0QbaImc9",
        "colab_type": "code",
        "colab": {}
      },
      "source": [
        "model.compile(loss='mean_squared_error', optimizer='adam')"
      ],
      "execution_count": 86,
      "outputs": []
    },
    {
      "cell_type": "code",
      "metadata": {
        "id": "-tNOO-gKImdp",
        "colab_type": "code",
        "colab": {
          "base_uri": "https://localhost:8080/",
          "height": 1000
        },
        "outputId": "35311cdc-b903-4a38-a03a-ca17ca4d498d"
      },
      "source": [
        "model.fit(x_train, y_train, epochs=50, batch_size=32)"
      ],
      "execution_count": 88,
      "outputs": [
        {
          "output_type": "stream",
          "text": [
            "Epoch 1/50\n",
            "59/59 [==============================] - 12s 195ms/step - loss: 0.0036\n",
            "Epoch 2/50\n",
            "59/59 [==============================] - 11s 194ms/step - loss: 0.0031\n",
            "Epoch 3/50\n",
            "59/59 [==============================] - 12s 197ms/step - loss: 0.0033\n",
            "Epoch 4/50\n",
            "59/59 [==============================] - 12s 198ms/step - loss: 0.0026\n",
            "Epoch 5/50\n",
            "59/59 [==============================] - 12s 198ms/step - loss: 0.0036\n",
            "Epoch 6/50\n",
            "59/59 [==============================] - 12s 197ms/step - loss: 0.0026\n",
            "Epoch 7/50\n",
            "59/59 [==============================] - 12s 199ms/step - loss: 0.0027\n",
            "Epoch 8/50\n",
            "59/59 [==============================] - 12s 197ms/step - loss: 0.0026\n",
            "Epoch 9/50\n",
            "59/59 [==============================] - 12s 199ms/step - loss: 0.0025\n",
            "Epoch 10/50\n",
            "59/59 [==============================] - 12s 197ms/step - loss: 0.0023\n",
            "Epoch 11/50\n",
            "59/59 [==============================] - 12s 198ms/step - loss: 0.0019\n",
            "Epoch 12/50\n",
            "59/59 [==============================] - 12s 199ms/step - loss: 0.0019\n",
            "Epoch 13/50\n",
            "59/59 [==============================] - 12s 197ms/step - loss: 0.0021\n",
            "Epoch 14/50\n",
            "59/59 [==============================] - 12s 197ms/step - loss: 0.0024\n",
            "Epoch 15/50\n",
            "59/59 [==============================] - 12s 197ms/step - loss: 0.0019\n",
            "Epoch 16/50\n",
            "59/59 [==============================] - 12s 197ms/step - loss: 0.0017\n",
            "Epoch 17/50\n",
            "59/59 [==============================] - 12s 197ms/step - loss: 0.0018\n",
            "Epoch 18/50\n",
            "59/59 [==============================] - 12s 201ms/step - loss: 0.0018\n",
            "Epoch 19/50\n",
            "59/59 [==============================] - 12s 198ms/step - loss: 0.0018\n",
            "Epoch 20/50\n",
            "59/59 [==============================] - 12s 199ms/step - loss: 0.0015\n",
            "Epoch 21/50\n",
            "59/59 [==============================] - 12s 197ms/step - loss: 0.0016\n",
            "Epoch 22/50\n",
            "59/59 [==============================] - 12s 198ms/step - loss: 0.0015\n",
            "Epoch 23/50\n",
            "59/59 [==============================] - 12s 201ms/step - loss: 0.0015\n",
            "Epoch 24/50\n",
            "59/59 [==============================] - 12s 197ms/step - loss: 0.0016\n",
            "Epoch 25/50\n",
            "59/59 [==============================] - 12s 199ms/step - loss: 0.0018\n",
            "Epoch 26/50\n",
            "59/59 [==============================] - 12s 206ms/step - loss: 0.0015\n",
            "Epoch 27/50\n",
            "59/59 [==============================] - 12s 203ms/step - loss: 0.0014\n",
            "Epoch 28/50\n",
            "59/59 [==============================] - 12s 200ms/step - loss: 0.0014\n",
            "Epoch 29/50\n",
            "59/59 [==============================] - 12s 198ms/step - loss: 0.0016\n",
            "Epoch 30/50\n",
            "59/59 [==============================] - 12s 199ms/step - loss: 0.0013\n",
            "Epoch 31/50\n",
            "59/59 [==============================] - 12s 199ms/step - loss: 0.0015\n",
            "Epoch 32/50\n",
            "59/59 [==============================] - 12s 200ms/step - loss: 0.0014\n",
            "Epoch 33/50\n",
            "59/59 [==============================] - 12s 198ms/step - loss: 0.0012\n",
            "Epoch 34/50\n",
            "59/59 [==============================] - 12s 197ms/step - loss: 0.0012\n",
            "Epoch 35/50\n",
            "59/59 [==============================] - 12s 197ms/step - loss: 0.0013\n",
            "Epoch 36/50\n",
            "59/59 [==============================] - 12s 198ms/step - loss: 0.0012\n",
            "Epoch 37/50\n",
            "59/59 [==============================] - 12s 196ms/step - loss: 0.0012\n",
            "Epoch 38/50\n",
            "59/59 [==============================] - 12s 200ms/step - loss: 0.0013\n",
            "Epoch 39/50\n",
            "59/59 [==============================] - 12s 199ms/step - loss: 0.0014\n",
            "Epoch 40/50\n",
            "59/59 [==============================] - 12s 198ms/step - loss: 0.0013\n",
            "Epoch 41/50\n",
            "59/59 [==============================] - 12s 197ms/step - loss: 0.0012\n",
            "Epoch 42/50\n",
            "59/59 [==============================] - 12s 198ms/step - loss: 0.0011\n",
            "Epoch 43/50\n",
            "59/59 [==============================] - 12s 200ms/step - loss: 0.0011\n",
            "Epoch 44/50\n",
            "59/59 [==============================] - 12s 197ms/step - loss: 0.0014\n",
            "Epoch 45/50\n",
            "59/59 [==============================] - 12s 206ms/step - loss: 0.0013\n",
            "Epoch 46/50\n",
            "59/59 [==============================] - 12s 197ms/step - loss: 0.0011\n",
            "Epoch 47/50\n",
            "59/59 [==============================] - 12s 197ms/step - loss: 0.0011\n",
            "Epoch 48/50\n",
            "59/59 [==============================] - 12s 200ms/step - loss: 0.0011\n",
            "Epoch 49/50\n",
            "59/59 [==============================] - 12s 196ms/step - loss: 0.0011\n",
            "Epoch 50/50\n",
            "59/59 [==============================] - 11s 194ms/step - loss: 0.0011\n"
          ],
          "name": "stdout"
        },
        {
          "output_type": "execute_result",
          "data": {
            "text/plain": [
              "<tensorflow.python.keras.callbacks.History at 0x7f6c3d39ce10>"
            ]
          },
          "metadata": {
            "tags": []
          },
          "execution_count": 88
        }
      ]
    },
    {
      "cell_type": "code",
      "metadata": {
        "id": "ZOfZO5psLpEM",
        "colab_type": "code",
        "colab": {
          "base_uri": "https://localhost:8080/",
          "height": 282
        },
        "outputId": "77522246-531a-4b44-b023-365c7f430f80"
      },
      "source": [
        "predictions = model.predict(x_test)\n",
        "predictions = scaler.inverse_transform(predictions)\n",
        "\n",
        "fig, ax = plt.subplots(figsize=(8,4))\n",
        "plt.plot(df, color='red',  label=\"True Price\")\n",
        "ax.plot(range(len(y_train)+50,len(y_train)+50+len(predictions)),predictions, color='blue', label='Predicted Testing Price')\n",
        "plt.legend()"
      ],
      "execution_count": 89,
      "outputs": [
        {
          "output_type": "execute_result",
          "data": {
            "text/plain": [
              "<matplotlib.legend.Legend at 0x7f6c3b0b1940>"
            ]
          },
          "metadata": {
            "tags": []
          },
          "execution_count": 89
        },
        {
          "output_type": "display_data",
          "data": {
            "image/png": "[encoded data removed]",
            "text/plain": [
              "<Figure size 576x288 with 1 Axes>"
            ]
          },
          "metadata": {
            "tags": [],
            "needs_background": "light"
          }
        }
      ]
    },
    {
      "cell_type": "code",
      "metadata": {
        "id": "hnYSzozRImfg",
        "colab_type": "code",
        "colab": {
          "base_uri": "https://localhost:8080/",
          "height": 282
        },
        "outputId": "f7dd8f32-cc75-4cc3-8b46-d7ca0c9a98c9"
      },
      "source": [
        "\n",
        "y_test_scaled = scaler.inverse_transform(y_test.reshape(-1, 1))\n",
        "\n",
        "fig, ax = plt.subplots(figsize=(8,4))\n",
        "ax.plot(y_test_scaled, color='red', label='real stock Price')\n",
        "plt.plot(predictions, color='blue', label='Predicted stock Price')\n",
        "plt.legend()"
      ],
      "execution_count": 90,
      "outputs": [
        {
          "output_type": "execute_result",
          "data": {
            "text/plain": [
              "<matplotlib.legend.Legend at 0x7f6c3ab9e860>"
            ]
          },
          "metadata": {
            "tags": []
          },
          "execution_count": 90
        },
        {
          "output_type": "display_data",
          "data": {
            "image/png": "[encoded data removed]",
            "text/plain": [
              "<Figure size 576x288 with 1 Axes>"
            ]
          },
          "metadata": {
            "tags": [],
            "needs_background": "light"
          }
        }
      ]
    },
    {
      "cell_type": "code",
      "metadata": {
        "id": "dcFQvI7YImgl",
        "colab_type": "code",
        "colab": {}
      },
      "source": [
        "x = x_test[-1]\n",
        "num_timesteps = 30\n",
        "preds = []\n",
        "for i in range(num_timesteps):\n",
        "    data = np.expand_dims(x, axis=0)\n",
        "    prediction = model.predict(data)\n",
        "    prediction = scaler.inverse_transform(prediction)\n",
        "    preds.append(prediction[0][0])\n",
        "    x = np.delete(x, 0, axis=0) # delete first row\n",
        "    x = np.vstack([x, prediction]) # add prediction"
      ],
      "execution_count": 95,
      "outputs": []
    },
    {
      "cell_type": "code",
      "metadata": {
        "id": "HVT4qPdwImjL",
        "colab_type": "code",
        "colab": {
          "base_uri": "https://localhost:8080/",
          "height": 521
        },
        "outputId": "8f5ca0d1-2a15-4188-aada-5ebe4709dba3"
      },
      "source": [
        "preds"
      ],
      "execution_count": 96,
      "outputs": [
        {
          "output_type": "execute_result",
          "data": {
            "text/plain": [
              "[609.89606,\n",
              " 1379.1589,\n",
              " 1240.797,\n",
              " 1304.7916,\n",
              " 1289.1584,\n",
              " 1296.8279,\n",
              " 1295.1807,\n",
              " 1296.0563,\n",
              " 1295.7396,\n",
              " 1295.6953,\n",
              " 1295.5077,\n",
              " 1295.3528,\n",
              " 1295.1808,\n",
              " 1295.0139,\n",
              " 1294.8466,\n",
              " 1294.6846,\n",
              " 1294.5284,\n",
              " 1294.3813,\n",
              " 1294.2439,\n",
              " 1294.1168,\n",
              " 1294.0012,\n",
              " 1293.8958,\n",
              " 1293.8008,\n",
              " 1293.716,\n",
              " 1293.6396,\n",
              " 1293.5715,\n",
              " 1293.5116,\n",
              " 1293.4581,\n",
              " 1293.4115,\n",
              " 1293.3701]"
            ]
          },
          "metadata": {
            "tags": []
          },
          "execution_count": 96
        }
      ]
    },
    {
      "cell_type": "code",
      "metadata": {
        "id": "Mk-Ow9fDImjx",
        "colab_type": "code",
        "colab": {}
      },
      "source": [
        ""
      ],
      "execution_count": null,
      "outputs": []
    },
    {
      "cell_type": "code",
      "metadata": {
        "id": "lW0o1r8qImkV",
        "colab_type": "code",
        "colab": {}
      },
      "source": [
        ""
      ],
      "execution_count": null,
      "outputs": []
    },
    {
      "cell_type": "code",
      "metadata": {
        "id": "1ByG_9wwImli",
        "colab_type": "code",
        "colab": {}
      },
      "source": [
        ""
      ],
      "execution_count": null,
      "outputs": []
    },
    {
      "cell_type": "code",
      "metadata": {
        "id": "pqB5Q7hsImmR",
        "colab_type": "code",
        "colab": {}
      },
      "source": [
        ""
      ],
      "execution_count": null,
      "outputs": []
    },
    {
      "cell_type": "code",
      "metadata": {
        "id": "okZjPkzBImnC",
        "colab_type": "code",
        "colab": {}
      },
      "source": [
        ""
      ],
      "execution_count": null,
      "outputs": []
    },
    {
      "cell_type": "code",
      "metadata": {
        "id": "62Xc-b71Imnn",
        "colab_type": "code",
        "colab": {}
      },
      "source": [
        ""
      ],
      "execution_count": null,
      "outputs": []
    },
    {
      "cell_type": "code",
      "metadata": {
        "id": "3o_94jVGImoF",
        "colab_type": "code",
        "colab": {}
      },
      "source": [
        ""
      ],
      "execution_count": null,
      "outputs": []
    },
    {
      "cell_type": "code",
      "metadata": {
        "id": "rny3mLIxImqW",
        "colab_type": "code",
        "colab": {}
      },
      "source": [
        ""
      ],
      "execution_count": null,
      "outputs": []
    }
  ]
}